{
 "cells": [
  {
   "cell_type": "code",
   "execution_count": 1,
   "metadata": {},
   "outputs": [],
   "source": [
    "import numpy as np\n",
    "import pandas as pd\n",
    "import statsmodels.formula.api as smf\n",
    "\n",
    "import warnings\n",
    "warnings.filterwarnings('ignore')"
   ]
  },
  {
   "cell_type": "code",
   "execution_count": 2,
   "metadata": {},
   "outputs": [],
   "source": [
    "datapath = '/Users/yufanwang/Desktop/MarmosetWM_Project/revision_NC/af_projection/result'"
   ]
  },
  {
   "cell_type": "code",
   "execution_count": null,
   "metadata": {},
   "outputs": [],
   "source": [
    "human_af_l_all = np.loadtxt(f'{datapath}/probtrackx2/human_af_l_thr0_norm.txt')\n",
    "chimp_af_l_all = np.loadtxt(f'{datapath}/probtrackx2/chimp_af_l_thr0_norm.txt')\n",
    "macaque_af_l_all = np.loadtxt(f'{datapath}/probtrackx2/macaque_tvb_af_l_thr0_norm.txt')\n",
    "marmoset_af_l_all = np.loadtxt(f'{datapath}/probtrackx2/marmoset_MBM_af_l_thr0_norm.txt')\n",
    "\n",
    "human_af_r_all = np.loadtxt(f'{datapath}/probtrackx2/human_af_r_thr0_norm.txt')\n",
    "chimp_af_r_all = np.loadtxt(f'{datapath}/probtrackx2/chimp_af_r_thr0_norm.txt')\n",
    "macaque_af_r_all = np.loadtxt(f'{datapath}/probtrackx2/macaque_tvb_af_r_thr0_norm.txt')\n",
    "marmoset_af_r_all = np.loadtxt(f'{datapath}/probtrackx2/marmoset_MBM_af_r_thr0_norm.txt')"
   ]
  },
  {
   "cell_type": "code",
   "execution_count": null,
   "metadata": {},
   "outputs": [],
   "source": [
    "index_human_chimp_L = np.loadtxt(f'/Users/yufanwang/Desktop/MarmosetWM_Project/revision_NC/indi_bp_atlas/index_human_chimp_L.txt')\n",
    "index_human_macaque_L = np.loadtxt(f'/Users/yufanwang/Desktop/MarmosetWM_Project/revision_NC/indi_bp_atlas/index_human_macaque_L.txt')\n",
    "index_human_marmoset_L = np.loadtxt(f'/Users/yufanwang/Desktop/MarmosetWM_Project/revision_NC/indi_bp_atlas/index_human_marmoset_L.txt')"
   ]
  },
  {
   "cell_type": "markdown",
   "metadata": {},
   "source": [
    "## construct data"
   ]
  },
  {
   "cell_type": "code",
   "execution_count": 5,
   "metadata": {},
   "outputs": [],
   "source": [
    "def read_subject_list(txt_path):\n",
    "    with open(txt_path, \"r\") as f:\n",
    "        subs = [line.strip() for line in f if line.strip()]\n",
    "    return subs\n",
    "\n",
    "def build_species_df(list_path, species_name, left_vals, right_vals, region):\n",
    "    subj = read_subject_list(list_path)\n",
    "    L = np.asarray(left_vals).reshape(-1)\n",
    "    R = np.asarray(right_vals).reshape(-1)\n",
    "\n",
    "    if not (len(subj) == len(L) == len(R)):\n",
    "        raise ValueError(\n",
    "            f\"[{species_name}] length mismatch: \"\n",
    "            f\"subjects={len(subj)}, L={len(L)}, R={len(R)}\"\n",
    "        )\n",
    "\n",
    "    df_L = pd.DataFrame({\n",
    "        \"subject_id\": subj,\n",
    "        \"species\": species_name,\n",
    "        \"hemisphere\": \"LH\",\n",
    "        \"region\": region,\n",
    "        \"connectivity_score\": L\n",
    "    })\n",
    "\n",
    "    df_R = pd.DataFrame({\n",
    "        \"subject_id\": subj,\n",
    "        \"species\": species_name,\n",
    "        \"hemisphere\": \"RH\",\n",
    "        \"region\": region,\n",
    "        \"connectivity_score\": R\n",
    "    })\n",
    "\n",
    "    return pd.concat([df_L, df_R], ignore_index=True)"
   ]
  },
  {
   "cell_type": "code",
   "execution_count": 6,
   "metadata": {},
   "outputs": [
    {
     "name": "stdout",
     "output_type": "stream",
     "text": [
      "  subject_id species hemisphere region  connectivity_score\n",
      "0     100307   human         LH   A44v            0.251221\n",
      "1     100408   human         LH   A44v            0.877148\n",
      "2     103414   human         LH   A44v            0.969813\n",
      "3     105115   human         LH   A44v            0.255724\n",
      "4     106016   human         LH   A44v            0.887377\n",
      "(236, 5)\n"
     ]
    }
   ],
   "source": [
    "human_list_path = \"/Users/yufanwang/Desktop/MarmosetWM_Project/revision_NC/indi_bp_atlas/humanlist40.txt\"\n",
    "chimp_list_path = \"/Users/yufanwang/Desktop/MarmosetWM_Project/revision_NC/indi_bp_atlas/chimplist46.txt\"\n",
    "macaque_list_path = \"/Users/yufanwang/Desktop/MarmosetWM_Project/revision_NC/indi_bp_atlas/macaque_tvb_list.txt\"\n",
    "marmoset_list_path = \"/Users/yufanwang/Desktop/MarmosetWM_Project/revision_NC/indi_bp_atlas/marmoset_MBM_list.txt\"\n",
    "\n",
    "i = 20\n",
    "region = \"A44v\"\n",
    "\n",
    "roi_index_human = i - 1\n",
    "roi_index_chimp = index_human_chimp_L[roi_index_human] - 1\n",
    "roi_index_macaque = index_human_macaque_L[roi_index_human] - 1\n",
    "roi_index_marmoset = index_human_marmoset_L[roi_index_human] - 1\n",
    "\n",
    "value_human_L = human_af_l_all[:,roi_index_human]\n",
    "value_chimp_L = chimp_af_l_all[:,int(roi_index_chimp)]\n",
    "value_macaque_L = macaque_af_l_all[:,int(roi_index_macaque)]\n",
    "value_marmoset_L = marmoset_af_l_all[:,int(roi_index_marmoset)]\n",
    "\n",
    "value_human_R = human_af_r_all[:,roi_index_human]\n",
    "value_chimp_R = chimp_af_r_all[:,int(roi_index_chimp)]\n",
    "value_macaque_R = macaque_af_r_all[:,int(roi_index_macaque)]\n",
    "value_marmoset_R = marmoset_af_r_all[:,int(roi_index_marmoset)]\n",
    "\n",
    "df = pd.concat([\n",
    "    build_species_df(human_list_path,    \"human\",      value_human_L,    value_human_R, region),\n",
    "    build_species_df(chimp_list_path,    \"chimpanzee\", value_chimp_L,    value_chimp_R, region),\n",
    "    build_species_df(macaque_list_path,  \"macaque\",    value_macaque_L,  value_macaque_R, region),\n",
    "    build_species_df(marmoset_list_path, \"marmoset\",   value_marmoset_L, value_marmoset_R, region),\n",
    "], ignore_index=True)\n",
    "\n",
    "print(df.head())\n",
    "print(df.shape)  # 应该是 2 * (40+46+8+24) = 236 行\n",
    "\n",
    "df.to_csv(f'{datapath}/af_projection_{region}.csv', index=False)"
   ]
  },
  {
   "cell_type": "markdown",
   "metadata": {},
   "source": [
    "## construct MixedLM model: species * hemisphere"
   ]
  },
  {
   "cell_type": "code",
   "execution_count": 7,
   "metadata": {},
   "outputs": [
    {
     "name": "stdout",
     "output_type": "stream",
     "text": [
      "                      Mixed Linear Model Regression Results\n",
      "=================================================================================\n",
      "Model:                   MixedLM      Dependent Variable:      connectivity_score\n",
      "No. Observations:        236          Method:                  REML              \n",
      "No. Groups:              118          Scale:                   0.0222            \n",
      "Min. group size:         2            Log-Likelihood:          74.1097           \n",
      "Max. group size:         2            Converged:               Yes               \n",
      "Mean group size:         2.0                                                     \n",
      "---------------------------------------------------------------------------------\n",
      "                                       Coef.  Std.Err.   z    P>|z| [0.025 0.975]\n",
      "---------------------------------------------------------------------------------\n",
      "Intercept                               0.508    0.026 19.249 0.000  0.457  0.560\n",
      "species[T.chimpanzee]                  -0.303    0.036 -8.391 0.000 -0.374 -0.232\n",
      "species[T.macaque]                     -0.489    0.065 -7.558 0.000 -0.616 -0.362\n",
      "species[T.marmoset]                    -0.343    0.043 -7.942 0.000 -0.427 -0.258\n",
      "hemisphere[T.RH]                       -0.321    0.033 -9.635 0.000 -0.386 -0.256\n",
      "species[T.chimpanzee]:hemisphere[T.RH]  0.273    0.046  5.991 0.000  0.184  0.362\n",
      "species[T.macaque]:hemisphere[T.RH]     0.312    0.082  3.820 0.000  0.152  0.472\n",
      "species[T.marmoset]:hemisphere[T.RH]    0.311    0.054  5.723 0.000  0.205  0.418\n",
      "Group Var                               0.006    0.021                           \n",
      "=================================================================================\n",
      "\n"
     ]
    }
   ],
   "source": [
    "df[\"species\"] = pd.Categorical(df[\"species\"], categories=[\"human\", \"chimpanzee\", \"macaque\", \"marmoset\"])\n",
    "\n",
    "model = smf.mixedlm(\"connectivity_score ~ species * hemisphere\", data=df, groups=df[\"subject_id\"])\n",
    "result = model.fit()\n",
    "\n",
    "print(result.summary())"
   ]
  }
 ],
 "metadata": {
  "kernelspec": {
   "display_name": "yfpy",
   "language": "python",
   "name": "python3"
  },
  "language_info": {
   "codemirror_mode": {
    "name": "ipython",
    "version": 3
   },
   "file_extension": ".py",
   "mimetype": "text/x-python",
   "name": "python",
   "nbconvert_exporter": "python",
   "pygments_lexer": "ipython3",
   "version": "3.9.21"
  }
 },
 "nbformat": 4,
 "nbformat_minor": 2
}
