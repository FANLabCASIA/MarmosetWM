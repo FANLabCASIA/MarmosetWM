{
 "cells": [
  {
   "cell_type": "code",
   "execution_count": 1,
   "metadata": {},
   "outputs": [],
   "source": [
    "import numpy as np\n",
    "import pandas as pd\n",
    "import statsmodels.formula.api as smf\n",
    "import scipy.io as sio\n",
    "from statsmodels.stats.multitest import multipletests\n",
    "\n",
    "import warnings\n",
    "warnings.filterwarnings('ignore')"
   ]
  },
  {
   "cell_type": "markdown",
   "metadata": {},
   "source": [
    "# contruct data"
   ]
  },
  {
   "cell_type": "code",
   "execution_count": 2,
   "metadata": {},
   "outputs": [],
   "source": [
    "def read_subject_list(txt_path):\n",
    "    with open(txt_path, \"r\") as f:\n",
    "        subs = [line.strip() for line in f if line.strip()]\n",
    "    return subs\n",
    "\n",
    "\n",
    "def build_df(KL_mat, human_ids, nonhuman_ids, species, hemisphere, region):\n",
    "    \"\"\"\n",
    "    KL_mat: numpy array (n_human × n_nonhuman)\n",
    "    human_ids: list of str (len=n_human)\n",
    "    nonhuman_ids: list of str (len=n_nonhuman)\n",
    "    species: str, e.g. \"chimpanzee\"\n",
    "    hemisphere: str, \"LH\" or \"RH\"\n",
    "    region: str\n",
    "    \"\"\"\n",
    "    n_h, n_x = KL_mat.shape\n",
    "    if len(human_ids) != n_h or len(nonhuman_ids) != n_x:\n",
    "        raise ValueError(f\"Shape mismatch for {species}-{hemisphere}: KL {KL_mat.shape}, human {len(human_ids)}, nonhuman {len(nonhuman_ids)}\")\n",
    "\n",
    "    rows = []\n",
    "    for i, h in enumerate(human_ids):\n",
    "        for j, x in enumerate(nonhuman_ids):\n",
    "            rows.append({\n",
    "                \"human_id\": h,\n",
    "                \"nonhuman_id\": x,\n",
    "                \"species\": species,\n",
    "                \"hemisphere\": hemisphere,\n",
    "                \"region\": region,\n",
    "                \"KL\": float(KL_mat[i, j])\n",
    "            })\n",
    "    return pd.DataFrame(rows)"
   ]
  },
  {
   "cell_type": "code",
   "execution_count": 3,
   "metadata": {},
   "outputs": [],
   "source": [
    "human_list_path = \"/Users/yufanwang/Desktop/MarmosetWM_Project/revision_NC/indi_bp_atlas/humanlist40.txt\"\n",
    "chimp_list_path = \"/Users/yufanwang/Desktop/MarmosetWM_Project/revision_NC/indi_bp_atlas/chimplist46.txt\"\n",
    "macaque_list_path = \"/Users/yufanwang/Desktop/MarmosetWM_Project/revision_NC/indi_bp_atlas/macaque_tvb_list.txt\"\n",
    "marmoset_list_path = \"/Users/yufanwang/Desktop/MarmosetWM_Project/revision_NC/indi_bp_atlas/marmoset_MBM_list.txt\"\n",
    "\n",
    "human_ids     = read_subject_list(human_list_path)     # 40\n",
    "chimp_ids     = read_subject_list(chimp_list_path)     # 46\n",
    "macaque_ids   = read_subject_list(macaque_list_path)   # 8\n",
    "marmoset_ids  = read_subject_list(marmoset_list_path)  # 24"
   ]
  },
  {
   "cell_type": "code",
   "execution_count": null,
   "metadata": {},
   "outputs": [],
   "source": [
    "i = 17\n",
    "region = \"A45c\"\n",
    "\n",
    "roi_index_human = i - 1\n",
    "\n",
    "datapath = '/Users/yufanwang/Desktop/MarmosetWM_Project/revision_NC/indi_bp_atlas/minKL_indi'\n",
    "\n",
    "KL_human_chimp_LH = sio.loadmat(f'{datapath}/c2h_minKL_on_human_atlas_all_subject.L.mat')\n",
    "KL_human_chimp_LH = KL_human_chimp_LH[\"minKL_c2h_all_L\"]\n",
    "KL_human_chimp_LH = KL_human_chimp_LH[:,:,roi_index_human]\n",
    "KL_human_chimp_RH = sio.loadmat(f'{datapath}/c2h_minKL_on_human_atlas_all_subject.R.mat')\n",
    "KL_human_chimp_RH = KL_human_chimp_RH[\"minKL_c2h_all_R\"]\n",
    "KL_human_chimp_RH = KL_human_chimp_RH[:,:,roi_index_human]\n",
    "\n",
    "KL_human_macaque_LH = sio.loadmat(f'{datapath}/mac2h_minKL_on_human_atlas_all_subject.L.mat')\n",
    "KL_human_macaque_LH = KL_human_macaque_LH[\"minKL_mac2h_all_L\"]\n",
    "KL_human_macaque_LH = KL_human_macaque_LH[:,:,roi_index_human]\n",
    "KL_human_macaque_RH = sio.loadmat(f'{datapath}/mac2h_minKL_on_human_atlas_all_subject.R.mat')\n",
    "KL_human_macaque_RH = KL_human_macaque_RH[\"minKL_mac2h_all_R\"]\n",
    "KL_human_macaque_RH = KL_human_macaque_RH[:,:,roi_index_human]\n",
    "\n",
    "KL_human_marmoset_LH = sio.loadmat(f'{datapath}/mar2h_minKL_on_human_atlas_all_subject.L.mat')\n",
    "KL_human_marmoset_LH = KL_human_marmoset_LH[\"minKL_mar2h_all_L\"]\n",
    "KL_human_marmoset_LH = KL_human_marmoset_LH[:,:,roi_index_human]\n",
    "KL_human_marmoset_RH = sio.loadmat(f'{datapath}/mar2h_minKL_on_human_atlas_all_subject.R.mat')\n",
    "KL_human_marmoset_RH = KL_human_marmoset_RH[\"minKL_mar2h_all_R\"]\n",
    "KL_human_marmoset_RH = KL_human_marmoset_RH[:,:,roi_index_human]"
   ]
  },
  {
   "cell_type": "code",
   "execution_count": null,
   "metadata": {},
   "outputs": [
    {
     "name": "stdout",
     "output_type": "stream",
     "text": [
      "  human_id nonhuman_id           species hemisphere region        KL\n",
      "0   100307      Agatha  human-chimpanzee         LH   A45c  1.539080\n",
      "1   100307      Amanda  human-chimpanzee         LH   A45c  2.418905\n",
      "2   100307     Artemus  human-chimpanzee         LH   A45c  3.334183\n",
      "3   100307      Azalea  human-chimpanzee         LH   A45c  1.959067\n",
      "4   100307     Barbara  human-chimpanzee         LH   A45c  1.287634\n",
      "(6240, 6)\n"
     ]
    }
   ],
   "source": [
    "df_chimp = pd.concat([\n",
    "    build_df(KL_human_chimp_LH, human_ids, chimp_ids, \"human-chimpanzee\", \"LH\", region),\n",
    "    build_df(KL_human_chimp_RH, human_ids, chimp_ids, \"human-chimpanzee\", \"RH\", region)\n",
    "])\n",
    "df_macaque = pd.concat([\n",
    "    build_df(KL_human_macaque_LH, human_ids, macaque_ids, \"human-macaque\", \"LH\", region),\n",
    "    build_df(KL_human_macaque_RH, human_ids, macaque_ids, \"human-macaque\", \"RH\", region)\n",
    "])\n",
    "df_marmoset = pd.concat([\n",
    "    build_df(KL_human_marmoset_LH, human_ids, marmoset_ids, \"human-marmoset\", \"LH\", region),\n",
    "    build_df(KL_human_marmoset_RH, human_ids, marmoset_ids, \"human-marmoset\", \"RH\", region)\n",
    "])\n",
    "\n",
    "df = pd.concat([df_chimp, df_macaque, df_marmoset], ignore_index=True)\n",
    "print(df.head())\n",
    "print(df.shape)  # 应该是 (40*46*2 + 40*8*2 + 40*24*2) = 6240 条记录\n",
    "\n",
    "df.to_csv(f'/Users/yufanwang/Desktop/MarmosetWM_Project/revision_NC/af_projection/result/minKL_indi_{region}.csv', index=False)"
   ]
  }
 ],
 "metadata": {
  "kernelspec": {
   "display_name": "yfpy",
   "language": "python",
   "name": "python3"
  },
  "language_info": {
   "codemirror_mode": {
    "name": "ipython",
    "version": 3
   },
   "file_extension": ".py",
   "mimetype": "text/x-python",
   "name": "python",
   "nbconvert_exporter": "python",
   "pygments_lexer": "ipython3",
   "version": "3.9.21"
  }
 },
 "nbformat": 4,
 "nbformat_minor": 2
}
