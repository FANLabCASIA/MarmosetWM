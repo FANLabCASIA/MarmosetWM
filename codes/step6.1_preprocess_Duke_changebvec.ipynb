{
 "cells": [
  {
   "cell_type": "code",
   "execution_count": 1,
   "metadata": {},
   "outputs": [],
   "source": [
    "import numpy as np"
   ]
  },
  {
   "cell_type": "code",
   "execution_count": 2,
   "metadata": {},
   "outputs": [],
   "source": [
    "bvecs = np.loadtxt('/n02dat01/users/yfwang/Data/Duke_Macaque_DTI/m30/DTI/bvecs')\n",
    "bvecs_new = np.loadtxt('/n02dat01/users/yfwang/Data/Duke_Macaque_DTI/m30/DTI/bvecs')"
   ]
  },
  {
   "cell_type": "code",
   "execution_count": 3,
   "metadata": {},
   "outputs": [],
   "source": [
    "bvecs_new[0,:] = bvecs[1,:]\n",
    "bvecs_new[1,:] = -1*bvecs[0,:]\n",
    "bvecs_new[2,:] = -1*bvecs[2,:]"
   ]
  },
  {
   "cell_type": "code",
   "execution_count": null,
   "metadata": {},
   "outputs": [],
   "source": [
    "np.savetxt('/n02dat01/users/yfwang/Data/Duke_Macaque_DTI/m30/DTI/bvecs', bvecs_new)\n",
    "np.savetxt('/n02dat01/users/yfwang/Data/Duke_Macaque_DTI/m30/DTI/bvecs_old', bvecs)"
   ]
  },
  {
   "cell_type": "code",
   "execution_count": 5,
   "metadata": {},
   "outputs": [],
   "source": [
    "bvecs = np.loadtxt('/n02dat01/users/yfwang/Data/Duke_Macaque_DTI/m30/rawdata/bvecs')\n",
    "bvecs_new = np.loadtxt('/n02dat01/users/yfwang/Data/Duke_Macaque_DTI/m30/rawdata/bvecs')"
   ]
  },
  {
   "cell_type": "code",
   "execution_count": 6,
   "metadata": {},
   "outputs": [],
   "source": [
    "bvecs_new[0,:] = -1*bvecs[1,:]\n",
    "bvecs_new[1,:] = bvecs[0,:]\n",
    "bvecs_new[2,:] = bvecs[2,:]"
   ]
  },
  {
   "cell_type": "code",
   "execution_count": 7,
   "metadata": {},
   "outputs": [],
   "source": [
    "np.savetxt('/n02dat01/users/yfwang/Data/Duke_Macaque_DTI/m30/DTI/bvecs', bvecs_new)\n"
   ]
  }
 ],
 "metadata": {
  "kernelspec": {
   "display_name": "Python 3",
   "language": "python",
   "name": "python3"
  },
  "language_info": {
   "codemirror_mode": {
    "name": "ipython",
    "version": 3
   },
   "file_extension": ".py",
   "mimetype": "text/x-python",
   "name": "python",
   "nbconvert_exporter": "python",
   "pygments_lexer": "ipython3",
   "version": "3.8.12"
  }
 },
 "nbformat": 4,
 "nbformat_minor": 2
}
