{
 "cells": [
  {
   "cell_type": "code",
   "execution_count": null,
   "metadata": {},
   "outputs": [],
   "source": [
    "import numpy as np\n",
    "import matplotlib.pyplot as plt\n",
    "import scipy.stats as stats"
   ]
  },
  {
   "cell_type": "code",
   "execution_count": null,
   "metadata": {},
   "outputs": [],
   "source": [
    "colors = ['#9BD696', '#FDA965', '#97C6DF', '#97C6DF', '#B8B8D9', '#B8B8D9']\n",
    "species = ['human', 'chimp', 'macaque_tvb', 'macaque_ucd', 'marmoset_MBM', 'marmoset_minds']\n",
    "\n",
    "ecolors = ['#4BB062', '#F3701B', '#4A98C9', '#4A98C9', '#8683BD', '#8683BD']"
   ]
  },
  {
   "cell_type": "code",
   "execution_count": null,
   "metadata": {},
   "outputs": [],
   "source": [
    "datapath = r'F:\\marmoset_xtract_Project\\20250215\\af_projection_new\\result'"
   ]
  },
  {
   "cell_type": "code",
   "execution_count": null,
   "metadata": {},
   "outputs": [],
   "source": [
    "human_af_l_all = np.loadtxt(rf'{datapath}\\human_af_l_thr0_norm.txt')\n",
    "chimp_af_l_all = np.loadtxt(rf'{datapath}\\chimp_af_l_thr0_norm.txt')\n",
    "macaque_af_l_all = np.loadtxt(rf'{datapath}\\macaque_af_l_thr0_norm.txt')\n",
    "macaque_ucd_af_l_all = np.loadtxt(rf'{datapath}\\macaque_ucd_af_l_thr0_norm.txt')\n",
    "marmoset_af_l_all = np.loadtxt(rf'{datapath}\\marmoset_af_l_thr0_norm.txt')\n",
    "marmoset_minds_af_l_all = np.loadtxt(rf'{datapath}\\marmoset_minds_af_l_thr0_norm.txt')"
   ]
  },
  {
   "cell_type": "code",
   "execution_count": null,
   "metadata": {},
   "outputs": [],
   "source": [
    "index_human_chimp_L = np.loadtxt(rf'F:\\marmoset_xtract_Project\\result\\bp_xspecies\\multispecies\\index_human_chimp_L.txt')\n",
    "index_human_macaque_L = np.loadtxt(rf'F:\\marmoset_xtract_Project\\result\\bp_xspecies\\multispecies\\index_human_macaque_L.txt')\n",
    "index_human_marmoset_L = np.loadtxt(rf'F:\\marmoset_xtract_Project\\result\\bp_xspecies\\multispecies\\index_human_marmoset_L.txt')"
   ]
  },
  {
   "cell_type": "code",
   "execution_count": null,
   "metadata": {},
   "outputs": [],
   "source": [
    "with open(rf'F:\\marmoset_xtract_Project\\support_data\\subregion_name.txt', 'r') as file:\n",
    "    subregions = [line.rstrip() for line in file.readlines()]\n",
    "\n",
    "for i in [17,38,41,61]:\n",
    "   \n",
    "    roi_index_human = i - 1\n",
    "    roi_index_chimp = index_human_chimp_L[roi_index_human] - 1\n",
    "    roi_index_macaque = index_human_macaque_L[roi_index_human] - 1\n",
    "    roi_index_marmoset = index_human_marmoset_L[roi_index_human] - 1\n",
    "\n",
    "    value_human = human_af_l_all[:,roi_index_human]\n",
    "    value_chimp = chimp_af_l_all[:,int(roi_index_chimp)]\n",
    "    value_macaque = macaque_af_l_all[:,int(roi_index_macaque)]\n",
    "    value_macaque_ucd = macaque_ucd_af_l_all[:,int(roi_index_macaque)]\n",
    "    value_marmoset = marmoset_af_l_all[:,int(roi_index_marmoset)]\n",
    "    value_marmoset_minds = marmoset_minds_af_l_all[:,int(roi_index_marmoset)]\n",
    "\n",
    "    values_mean = [np.mean(value_human), \\\n",
    "                   np.mean(value_chimp), \\\n",
    "                   np.mean(value_macaque), \\\n",
    "                   np.mean(value_macaque_ucd), \\\n",
    "                   np.mean(value_marmoset), \\\n",
    "                   np.mean(value_marmoset_minds)]\n",
    "    err_std = [np.std(value_human), \\\n",
    "               np.std(value_chimp), \\\n",
    "               np.std(value_macaque), \\\n",
    "               np.std(value_macaque_ucd), \\\n",
    "               np.std(value_marmoset), \\\n",
    "               np.std(value_marmoset_minds)]\n",
    "\n",
    "    x = np.arange(len(species))\n",
    "\n",
    "    plt.figure(figsize=(6,2), dpi=200)\n",
    "    plt.bar(x, values_mean, yerr=err_std, color=colors, ecolor=ecolors)\n",
    "    plt.xticks(x, species, fontsize=8, rotation=45)\n",
    "    plt.yticks(fontsize=8)\n",
    "    plt.ylabel('Connectivity Strength', fontsize=8)\n",
    "    plt.title(f'{subregions[roi_index_human]} - AF', fontsize=10)\n",
    "\n",
    "    ax = plt.gca()\n",
    "    ax.spines['right'].set_color('none')\n",
    "    ax.spines['top'].set_color('none')\n",
    "\n",
    "    plt.savefig(rf'{datapath}/{subregions[roi_index_human]}_AF_all.png', transparent=True, bbox_inches = 'tight')\n",
    "    # plt.close()"
   ]
  },
  {
   "cell_type": "code",
   "execution_count": null,
   "metadata": {},
   "outputs": [],
   "source": [
    "for i in [17]:\n",
    "   \n",
    "    roi_index_human = i - 1\n",
    "    roi_index_chimp = index_human_chimp_L[roi_index_human] - 1\n",
    "    roi_index_macaque = index_human_macaque_L[roi_index_human] - 1\n",
    "    roi_index_marmoset = index_human_marmoset_L[roi_index_human] - 1\n",
    "\n",
    "    value_human = human_af_l_all[:,roi_index_human]\n",
    "    value_chimp = chimp_af_l_all[:,int(roi_index_chimp)]\n",
    "    value_macaque = macaque_af_l_all[:,int(roi_index_macaque)]\n",
    "    value_macaque_ucd = macaque_ucd_af_l_all[:,int(roi_index_macaque)]\n",
    "    value_marmoset = marmoset_af_l_all[:,int(roi_index_marmoset)]\n",
    "    value_marmoset_minds = marmoset_minds_af_l_all[:,int(roi_index_marmoset)]\n",
    "\n",
    "    t, p = stats.ttest_ind(value_human, value_chimp)\n",
    "    print(f'{subregions[roi_index_human]}: human - chimp: t={t}, p={p}')\n",
    "    t, p = stats.ttest_ind(value_human, value_macaque)\n",
    "    print(f'{subregions[roi_index_human]}: human - macaque: t={t}, p={p}')\n",
    "    t, p = stats.ttest_ind(value_human, value_macaque_ucd)\n",
    "    print(f'{subregions[roi_index_human]}: human - macaque_ucd: t={t}, p={p}')\n",
    "    t, p = stats.ttest_ind(value_human, value_marmoset)\n",
    "    print(f'{subregions[roi_index_human]}: human - marmoset: t={t}, p={p}')\n",
    "    t, p = stats.ttest_ind(value_human, value_marmoset_minds)\n",
    "    print(f'{subregions[roi_index_human]}: human - marmoset_minds: t={t}, p={p}')\n",
    "    \n",
    "    t, p = stats.ttest_ind(value_marmoset, value_chimp)\n",
    "    print(f'{subregions[roi_index_human]}: marmoset - chimp: t={t}, p={p}')\n",
    "    t, p = stats.ttest_ind(value_marmoset, value_macaque)\n",
    "    print(f'{subregions[roi_index_human]}: marmoset - macaque: t={t}, p={p}')\n",
    "    t, p = stats.ttest_ind(value_marmoset, value_macaque_ucd)\n",
    "    print(f'{subregions[roi_index_human]}: marmoset - macaque_ucd: t={t}, p={p}')\n",
    "    \n",
    "    value_marmoset_minds = value_marmoset_minds[np.where(value_marmoset_minds>0.05)]\n",
    "    t, p = stats.ttest_ind(value_marmoset_minds, value_chimp)\n",
    "    print(f'{subregions[roi_index_human]}: marmoset_minds - chimp: t={t}, p={p}')\n",
    "    t, p = stats.ttest_ind(value_marmoset_minds, value_macaque)\n",
    "    print(f'{subregions[roi_index_human]}: marmoset_minds - macaque: t={t}, p={p}')\n",
    "    t, p = stats.ttest_ind(value_marmoset_minds, value_macaque_ucd)\n",
    "    print(f'{subregions[roi_index_human]}: marmoset_minds - macaque_ucd: t={t}, p={p}')"
   ]
  }
 ],
 "metadata": {
  "kernelspec": {
   "display_name": "yfwang",
   "language": "python",
   "name": "python3"
  },
  "language_info": {
   "codemirror_mode": {
    "name": "ipython",
    "version": 3
   },
   "file_extension": ".py",
   "mimetype": "text/x-python",
   "name": "python",
   "nbconvert_exporter": "python",
   "pygments_lexer": "ipython3",
   "version": "3.8.0"
  }
 },
 "nbformat": 4,
 "nbformat_minor": 2
}
