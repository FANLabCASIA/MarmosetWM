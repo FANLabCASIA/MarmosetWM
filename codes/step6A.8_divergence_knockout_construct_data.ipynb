{
 "cells": [
  {
   "cell_type": "code",
   "execution_count": 1,
   "metadata": {},
   "outputs": [],
   "source": [
    "import numpy as np\n",
    "import pandas as pd\n",
    "import scipy.io as sio\n",
    "\n",
    "import warnings\n",
    "warnings.filterwarnings('ignore')"
   ]
  },
  {
   "cell_type": "code",
   "execution_count": 2,
   "metadata": {},
   "outputs": [],
   "source": [
    "def read_subject_list(txt_path):\n",
    "    with open(txt_path, \"r\") as f:\n",
    "        subs = [line.strip() for line in f if line.strip()]\n",
    "    return subs\n",
    "\n",
    "\n",
    "def build_df_deltaKL(KL_mat, human_ids, nonhuman_ids, species, hemisphere, tract_ids, region):\n",
    "    \"\"\"\n",
    "    KL_mat: numpy array (n_human × n_nonhuman)\n",
    "    human_ids: list of str (len=n_human)\n",
    "    nonhuman_ids: list of str (len=n_nonhuman)\n",
    "    species: str, e.g. \"chimpanzee\"\n",
    "    hemisphere: str, \"LH\" or \"RH\"\n",
    "    tract_ids: list of str (len=n_tract)\n",
    "    region: str\n",
    "    \"\"\"\n",
    "    n_h, n_x, n_t = KL_mat.shape\n",
    "    if len(human_ids) != n_h or len(nonhuman_ids) != n_x or len(tract_ids) != n_t:\n",
    "        raise ValueError(f\"Shape mismatch for {species}-{hemisphere}: KL {KL_mat.shape}, human {len(human_ids)}, nonhuman {len(nonhuman_ids)}, tract {len(tract_ids)}\")\n",
    "\n",
    "    rows = []\n",
    "    for i, h in enumerate(human_ids):\n",
    "        for j, x in enumerate(nonhuman_ids):\n",
    "            for k, t in enumerate(tract_ids):\n",
    "                rows.append({\n",
    "                    \"human_id\": h,\n",
    "                    \"nonhuman_id\": x,\n",
    "                    \"species\": species,\n",
    "                    \"hemisphere\": hemisphere,\n",
    "                    \"tract\": t,\n",
    "                    \"region\": region,\n",
    "                    \"deltaKL\": float(KL_mat[i, j, k])\n",
    "                })\n",
    "    return pd.DataFrame(rows)\n",
    "\n",
    "\n",
    "def build_df_minKL(KL_mat, human_ids, nonhuman_ids, species, hemisphere, tract_ids, region):\n",
    "    \"\"\"\n",
    "    KL_mat: numpy array (n_human × n_nonhuman)\n",
    "    human_ids: list of str (len=n_human)\n",
    "    nonhuman_ids: list of str (len=n_nonhuman)\n",
    "    species: str, e.g. \"chimpanzee\"\n",
    "    hemisphere: str, \"LH\" or \"RH\"\n",
    "    tract_ids: list of str (len=n_tract)\n",
    "    region: str\n",
    "    \"\"\"\n",
    "    n_h, n_x, n_t = KL_mat.shape\n",
    "    if len(human_ids) != n_h or len(nonhuman_ids) != n_x or len(tract_ids) != n_t:\n",
    "        raise ValueError(f\"Shape mismatch for {species}-{hemisphere}: KL {KL_mat.shape}, human {len(human_ids)}, nonhuman {len(nonhuman_ids)}, tract {len(tract_ids)}\")\n",
    "\n",
    "    rows = []\n",
    "    for i, h in enumerate(human_ids):\n",
    "        for j, x in enumerate(nonhuman_ids):\n",
    "            for k, t in enumerate(tract_ids):\n",
    "                rows.append({\n",
    "                    \"human_id\": h,\n",
    "                    \"nonhuman_id\": x,\n",
    "                    \"species\": species,\n",
    "                    \"hemisphere\": hemisphere,\n",
    "                    \"tract\": t,\n",
    "                    \"region\": region,\n",
    "                    \"minKL\": float(KL_mat[i, j, k])\n",
    "                })\n",
    "    return pd.DataFrame(rows)"
   ]
  },
  {
   "cell_type": "code",
   "execution_count": 3,
   "metadata": {},
   "outputs": [],
   "source": [
    "human_list_path = \"/Users/yufanwang/Desktop/MarmosetWM_Project/revision_NC/indi_bp_atlas/humanlist40.txt\"\n",
    "chimp_list_path = \"/Users/yufanwang/Desktop/MarmosetWM_Project/revision_NC/indi_bp_atlas/chimplist46.txt\"\n",
    "macaque_list_path = \"/Users/yufanwang/Desktop/MarmosetWM_Project/revision_NC/indi_bp_atlas/macaque_tvb_list.txt\"\n",
    "marmoset_list_path = \"/Users/yufanwang/Desktop/MarmosetWM_Project/revision_NC/indi_bp_atlas/marmoset_MBM_list.txt\"\n",
    "\n",
    "human_ids     = read_subject_list(human_list_path)     # 40\n",
    "chimp_ids     = read_subject_list(chimp_list_path)     # 46\n",
    "macaque_ids   = read_subject_list(macaque_list_path)   # 8\n",
    "marmoset_ids  = read_subject_list(marmoset_list_path)  # 24"
   ]
  },
  {
   "cell_type": "code",
   "execution_count": 4,
   "metadata": {},
   "outputs": [],
   "source": [
    "region = \"A45c\"\n",
    "\n",
    "datapath = '/Users/yufanwang/Desktop/MarmosetWM_Project/revision_NC/indi_bp_atlas/knockout_indi'"
   ]
  },
  {
   "cell_type": "code",
   "execution_count": null,
   "metadata": {},
   "outputs": [],
   "source": [
    "tract_ids = ['AF', 'ATR', 'SLF3', 'UF']\n",
    "\n",
    "deltaKL_human_chimp_LH = sio.loadmat(f'{datapath}/c2h_deltaKL_on_human_atlas_A45c.L.mat')\n",
    "deltaKL_human_chimp_LH = deltaKL_human_chimp_LH[\"deltaKL_c2h_A45c_L\"]\n",
    "deltaKL_human_chimp_RH = sio.loadmat(f'{datapath}/c2h_deltaKL_on_human_atlas_A45c.R.mat')\n",
    "deltaKL_human_chimp_RH = deltaKL_human_chimp_RH[\"deltaKL_c2h_A45c_R\"]\n",
    "\n",
    "deltaKL_human_macaque_LH = sio.loadmat(f'{datapath}/mac2h_deltaKL_on_human_atlas_A45c.L.mat')\n",
    "deltaKL_human_macaque_LH = deltaKL_human_macaque_LH[\"deltaKL_mac2h_A45c_L\"]\n",
    "deltaKL_human_macaque_RH = sio.loadmat(f'{datapath}/mac2h_deltaKL_on_human_atlas_A45c.R.mat')\n",
    "deltaKL_human_macaque_RH = deltaKL_human_macaque_RH[\"deltaKL_mac2h_A45c_R\"]\n",
    "\n",
    "deltaKL_human_marmoset_LH = sio.loadmat(f'{datapath}/mar2h_deltaKL_on_human_atlas_A45c.L.mat')\n",
    "deltaKL_human_marmoset_LH = deltaKL_human_marmoset_LH[\"deltaKL_mar2h_A45c_L\"]\n",
    "deltaKL_human_marmoset_RH = sio.loadmat(f'{datapath}/mar2h_deltaKL_on_human_atlas_A45c.R.mat')\n",
    "deltaKL_human_marmoset_RH = deltaKL_human_marmoset_RH[\"deltaKL_mar2h_A45c_R\"]"
   ]
  },
  {
   "cell_type": "code",
   "execution_count": 6,
   "metadata": {},
   "outputs": [
    {
     "name": "stdout",
     "output_type": "stream",
     "text": [
      "  human_id nonhuman_id           species hemisphere tract region   deltaKL\n",
      "0   100307      Agatha  human-chimpanzee         LH    AF   A45c  0.110992\n",
      "1   100307      Agatha  human-chimpanzee         LH   ATR   A45c  0.031077\n",
      "2   100307      Agatha  human-chimpanzee         LH  SLF3   A45c  0.090206\n",
      "3   100307      Agatha  human-chimpanzee         LH    UF   A45c  0.064082\n",
      "4   100307      Amanda  human-chimpanzee         LH    AF   A45c  0.510599\n",
      "(24960, 7)\n"
     ]
    }
   ],
   "source": [
    "df_chimp = pd.concat([\n",
    "    build_df_deltaKL(deltaKL_human_chimp_LH, human_ids, chimp_ids, \"human-chimpanzee\", \"LH\", tract_ids, region),\n",
    "    build_df_deltaKL(deltaKL_human_chimp_RH, human_ids, chimp_ids, \"human-chimpanzee\", \"RH\", tract_ids, region)\n",
    "])\n",
    "df_macaque = pd.concat([\n",
    "    build_df_deltaKL(deltaKL_human_macaque_LH, human_ids, macaque_ids, \"human-macaque\", \"LH\", tract_ids, region),\n",
    "    build_df_deltaKL(deltaKL_human_macaque_RH, human_ids, macaque_ids, \"human-macaque\", \"RH\", tract_ids, region)\n",
    "])\n",
    "df_marmoset = pd.concat([\n",
    "    build_df_deltaKL(deltaKL_human_marmoset_LH, human_ids, marmoset_ids, \"human-marmoset\", \"LH\", tract_ids, region),\n",
    "    build_df_deltaKL(deltaKL_human_marmoset_RH, human_ids, marmoset_ids, \"human-marmoset\", \"RH\", tract_ids, region)\n",
    "])\n",
    "\n",
    "df = pd.concat([df_chimp, df_macaque, df_marmoset], ignore_index=True)\n",
    "print(df.head())\n",
    "print(df.shape)  # 应该是 (40*46*2 + 40*8*2 + 40*24*2) = 6240 条记录\n",
    "\n",
    "df.to_csv(f'/Users/yufanwang/Desktop/MarmosetWM_Project/revision_NC/af_projection/result/deltaKL_indi_{region}.csv', index=False)"
   ]
  },
  {
   "cell_type": "code",
   "execution_count": 10,
   "metadata": {},
   "outputs": [],
   "source": [
    "tract_ids = ['AF', 'ATR', 'SLF3', 'UF', 'ALL']\n",
    "\n",
    "minKL_human_chimp_LH = sio.loadmat(f'{datapath}/c2h_minKL_on_human_atlas_A45c.L.mat')\n",
    "minKL_human_chimp_LH = minKL_human_chimp_LH[\"minKL_c2h_A45c_L\"]\n",
    "minKL_human_chimp_RH = sio.loadmat(f'{datapath}/c2h_minKL_on_human_atlas_A45c.R.mat')\n",
    "minKL_human_chimp_RH = minKL_human_chimp_RH[\"minKL_c2h_A45c_R\"]\n",
    "\n",
    "minKL_human_macaque_LH = sio.loadmat(f'{datapath}/mac2h_minKL_on_human_atlas_A45c.L.mat')\n",
    "minKL_human_macaque_LH = minKL_human_macaque_LH[\"minKL_mac2h_A45c_L\"]\n",
    "minKL_human_macaque_RH = sio.loadmat(f'{datapath}/mac2h_minKL_on_human_atlas_A45c.R.mat')\n",
    "minKL_human_macaque_RH = minKL_human_macaque_RH[\"minKL_mac2h_A45c_R\"]\n",
    "\n",
    "minKL_human_marmoset_LH = sio.loadmat(f'{datapath}/mar2h_minKL_on_human_atlas_A45c.L.mat')\n",
    "minKL_human_marmoset_LH = minKL_human_marmoset_LH[\"minKL_mar2h_A45c_L\"]\n",
    "minKL_human_marmoset_RH = sio.loadmat(f'{datapath}/mar2h_minKL_on_human_atlas_A45c.R.mat')\n",
    "minKL_human_marmoset_RH = minKL_human_marmoset_RH[\"minKL_mar2h_A45c_R\"]\n"
   ]
  },
  {
   "cell_type": "code",
   "execution_count": null,
   "metadata": {},
   "outputs": [
    {
     "name": "stdout",
     "output_type": "stream",
     "text": [
      "  human_id nonhuman_id           species hemisphere tract region     minKL\n",
      "0   100307      Agatha  human-chimpanzee         LH    AF   A45c  1.650072\n",
      "1   100307      Agatha  human-chimpanzee         LH   ATR   A45c  1.570156\n",
      "2   100307      Agatha  human-chimpanzee         LH  SLF3   A45c  1.629285\n",
      "3   100307      Agatha  human-chimpanzee         LH    UF   A45c  1.474998\n",
      "4   100307      Agatha  human-chimpanzee         LH   ALL   A45c  1.539080\n",
      "(31200, 7)\n"
     ]
    }
   ],
   "source": [
    "df_chimp = pd.concat([\n",
    "    build_df_minKL(minKL_human_chimp_LH, human_ids, chimp_ids, \"human-chimpanzee\", \"LH\", tract_ids, region),\n",
    "    build_df_minKL(minKL_human_chimp_RH, human_ids, chimp_ids, \"human-chimpanzee\", \"RH\", tract_ids, region)\n",
    "])\n",
    "df_macaque = pd.concat([\n",
    "    build_df_minKL(minKL_human_macaque_LH, human_ids, macaque_ids, \"human-macaque\", \"LH\", tract_ids, region),\n",
    "    build_df_minKL(minKL_human_macaque_RH, human_ids, macaque_ids, \"human-macaque\", \"RH\", tract_ids, region)\n",
    "])\n",
    "df_marmoset = pd.concat([\n",
    "    build_df_minKL(minKL_human_marmoset_LH, human_ids, marmoset_ids, \"human-marmoset\", \"LH\", tract_ids, region),\n",
    "    build_df_minKL(minKL_human_marmoset_RH, human_ids, marmoset_ids, \"human-marmoset\", \"RH\", tract_ids, region)\n",
    "])\n",
    "\n",
    "df = pd.concat([df_chimp, df_macaque, df_marmoset], ignore_index=True)\n",
    "print(df.head())\n",
    "print(df.shape)  # 应该是 (40*46*2 + 40*8*2 + 40*24*2) = 6240 条记录\n",
    "\n",
    "df.to_csv(f'/Users/yufanwang/Desktop/MarmosetWM_Project/revision_NC/af_projection/result/minKL_lesion_indi_{region}.csv', index=False)"
   ]
  }
 ],
 "metadata": {
  "kernelspec": {
   "display_name": "yfpy",
   "language": "python",
   "name": "python3"
  },
  "language_info": {
   "codemirror_mode": {
    "name": "ipython",
    "version": 3
   },
   "file_extension": ".py",
   "mimetype": "text/x-python",
   "name": "python",
   "nbconvert_exporter": "python",
   "pygments_lexer": "ipython3",
   "version": "3.9.21"
  }
 },
 "nbformat": 4,
 "nbformat_minor": 2
}
