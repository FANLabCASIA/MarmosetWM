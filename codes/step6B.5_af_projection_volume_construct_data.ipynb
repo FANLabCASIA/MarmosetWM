{
 "cells": [
  {
   "cell_type": "code",
   "execution_count": 1,
   "metadata": {},
   "outputs": [],
   "source": [
    "import numpy as np\n",
    "import pandas as pd\n",
    "import statsmodels.formula.api as smf\n",
    "\n",
    "import warnings\n",
    "warnings.filterwarnings('ignore')"
   ]
  },
  {
   "cell_type": "code",
   "execution_count": 2,
   "metadata": {},
   "outputs": [],
   "source": [
    "datapath = '/Users/yufanwang/Desktop/MarmosetWM_Project/revision_NC/af_projection/result'"
   ]
  },
  {
   "cell_type": "code",
   "execution_count": null,
   "metadata": {},
   "outputs": [],
   "source": [
    "human_af_l_all = np.loadtxt(f'{datapath}/probtrackx2/human_af_l_thr0_norm.txt')\n",
    "chimp_af_l_all = np.loadtxt(f'{datapath}/probtrackx2/chimp_af_l_thr0_norm.txt')\n",
    "macaque_af_l_all = np.loadtxt(f'{datapath}/probtrackx2/macaque_tvb_af_l_thr0_norm.txt')\n",
    "marmoset_af_l_all = np.loadtxt(f'{datapath}/probtrackx2/marmoset_MBM_af_l_thr0_norm.txt')\n",
    "\n",
    "human_af_r_all = np.loadtxt(f'{datapath}/probtrackx2/human_af_r_thr0_norm.txt')\n",
    "chimp_af_r_all = np.loadtxt(f'{datapath}/probtrackx2/chimp_af_r_thr0_norm.txt')\n",
    "macaque_af_r_all = np.loadtxt(f'{datapath}/probtrackx2/macaque_tvb_af_r_thr0_norm.txt')\n",
    "marmoset_af_r_all = np.loadtxt(f'{datapath}/probtrackx2/marmoset_MBM_af_r_thr0_norm.txt')"
   ]
  },
  {
   "cell_type": "code",
   "execution_count": null,
   "metadata": {},
   "outputs": [],
   "source": [
    "index_human_chimp_L = np.loadtxt(f'/Users/yufanwang/Desktop/MarmosetWM_Project/revision_NC/indi_bp_atlas/index_human_chimp_L.txt')\n",
    "index_human_macaque_L = np.loadtxt(f'/Users/yufanwang/Desktop/MarmosetWM_Project/revision_NC/indi_bp_atlas/index_human_macaque_L.txt')\n",
    "index_human_marmoset_L = np.loadtxt(f'/Users/yufanwang/Desktop/MarmosetWM_Project/revision_NC/indi_bp_atlas/index_human_marmoset_L.txt')"
   ]
  },
  {
   "cell_type": "markdown",
   "metadata": {},
   "source": [
    "## construct data"
   ]
  },
  {
   "cell_type": "code",
   "execution_count": 5,
   "metadata": {},
   "outputs": [],
   "source": [
    "def read_subject_list(txt_path):\n",
    "    with open(txt_path, \"r\") as f:\n",
    "        subs = [line.strip() for line in f if line.strip()]\n",
    "    return subs\n",
    "\n",
    "def build_species_volume_df(list_path, species_name, left_vals, right_vals, region, volume_path):\n",
    "    subj = read_subject_list(list_path)\n",
    "    L = np.asarray(left_vals).reshape(-1)\n",
    "    R = np.asarray(right_vals).reshape(-1)\n",
    "\n",
    "    if not (len(subj) == len(L) == len(R)):\n",
    "        raise ValueError(\n",
    "            f\"[{species_name}] length mismatch: \"\n",
    "            f\"subjects={len(subj)}, L={len(L)}, R={len(R)}\"\n",
    "        )\n",
    "\n",
    "    vol = np.loadtxt(volume_path)\n",
    "    vol_wb, vol_gm, vol_wm = vol[:, 0], vol[:, 1], vol[:, 2]\n",
    "\n",
    "    df_L = pd.DataFrame({\n",
    "        \"subject_id\": subj,\n",
    "        \"species\": species_name,\n",
    "        \"hemisphere\": \"LH\",\n",
    "        \"region\": region,\n",
    "        \"volume_wb\": vol_wb,\n",
    "        \"volume_gm\": vol_gm,\n",
    "        \"volume_wm\": vol_wm,\n",
    "        \"connectivity_score\": L\n",
    "    })\n",
    "\n",
    "    df_R = pd.DataFrame({\n",
    "        \"subject_id\": subj,\n",
    "        \"species\": species_name,\n",
    "        \"hemisphere\": \"RH\",\n",
    "        \"region\": region,\n",
    "        \"volume_wb\": vol_wb,\n",
    "        \"volume_gm\": vol_gm,\n",
    "        \"volume_wm\": vol_wm,\n",
    "        \"connectivity_score\": R\n",
    "    })\n",
    "\n",
    "    return pd.concat([df_L, df_R], ignore_index=True)"
   ]
  },
  {
   "cell_type": "code",
   "execution_count": 6,
   "metadata": {},
   "outputs": [
    {
     "name": "stdout",
     "output_type": "stream",
     "text": [
      "  subject_id species hemisphere region  volume_wb  volume_gm  volume_wm  \\\n",
      "0     100307   human         LH   A45c  1130925.0   656756.0   461873.0   \n",
      "1     100408   human         LH   A45c  1304369.0   716157.0   567342.0   \n",
      "2     103414   human         LH   A45c  1082325.0   619604.0   449285.0   \n",
      "3     105115   human         LH   A45c  1228840.0   693113.0   483771.0   \n",
      "4     106016   human         LH   A45c  1115450.0   660915.0   442756.0   \n",
      "\n",
      "   connectivity_score  \n",
      "0            0.335231  \n",
      "1            0.339382  \n",
      "2            0.133474  \n",
      "3            0.264675  \n",
      "4            0.541276  \n",
      "(236, 8)\n"
     ]
    }
   ],
   "source": [
    "human_list_path = \"/Users/yufanwang/Desktop/MarmosetWM_Project/revision_NC/indi_bp_atlas/humanlist40.txt\"\n",
    "chimp_list_path = \"/Users/yufanwang/Desktop/MarmosetWM_Project/revision_NC/indi_bp_atlas/chimplist46.txt\"\n",
    "macaque_list_path = \"/Users/yufanwang/Desktop/MarmosetWM_Project/revision_NC/indi_bp_atlas/macaque_tvb_list.txt\"\n",
    "marmoset_list_path = \"/Users/yufanwang/Desktop/MarmosetWM_Project/revision_NC/indi_bp_atlas/marmoset_MBM_list.txt\"\n",
    "\n",
    "i = 17\n",
    "region = \"A45c\"\n",
    "\n",
    "roi_index_human = i - 1\n",
    "roi_index_chimp = index_human_chimp_L[roi_index_human] - 1\n",
    "roi_index_macaque = index_human_macaque_L[roi_index_human] - 1\n",
    "roi_index_marmoset = index_human_marmoset_L[roi_index_human] - 1\n",
    "\n",
    "value_human_L = human_af_l_all[:,roi_index_human]\n",
    "value_chimp_L = chimp_af_l_all[:,int(roi_index_chimp)]\n",
    "value_macaque_L = macaque_af_l_all[:,int(roi_index_macaque)]\n",
    "value_marmoset_L = marmoset_af_l_all[:,int(roi_index_marmoset)]\n",
    "\n",
    "value_human_R = human_af_r_all[:,roi_index_human]\n",
    "value_chimp_R = chimp_af_r_all[:,int(roi_index_chimp)]\n",
    "value_macaque_R = macaque_af_r_all[:,int(roi_index_macaque)]\n",
    "value_marmoset_R = marmoset_af_r_all[:,int(roi_index_marmoset)]\n",
    "\n",
    "volume_human_path = '/Users/yufanwang/Desktop/MarmosetWM_Project/revision_NC/volume/volume_human.txt'\n",
    "volume_chimp_path = '/Users/yufanwang/Desktop/MarmosetWM_Project/revision_NC/volume/volume_chimp.txt'\n",
    "volume_macaque_path = '/Users/yufanwang/Desktop/MarmosetWM_Project/revision_NC/volume/volume_macaque.txt'\n",
    "volume_marmoset_path = '/Users/yufanwang/Desktop/MarmosetWM_Project/revision_NC/volume/volume_marmoset.txt'\n",
    "\n",
    "df = pd.concat([\n",
    "    build_species_volume_df(human_list_path,    \"human\",      value_human_L,    value_human_R, region, volume_human_path),\n",
    "    build_species_volume_df(chimp_list_path,    \"chimpanzee\", value_chimp_L,    value_chimp_R, region, volume_chimp_path),\n",
    "    build_species_volume_df(macaque_list_path,  \"macaque\",    value_macaque_L,  value_macaque_R, region, volume_macaque_path),\n",
    "    build_species_volume_df(marmoset_list_path, \"marmoset\",   value_marmoset_L, value_marmoset_R, region, volume_marmoset_path),\n",
    "], ignore_index=True)\n",
    "\n",
    "print(df.head())\n",
    "print(df.shape)  # 应该是 2 * (40+46+8+24) = 236 行\n",
    "\n",
    "df.to_csv(f'{datapath}/af_projection_{region}_volume.csv', index=False)"
   ]
  }
 ],
 "metadata": {
  "kernelspec": {
   "display_name": "yfpy",
   "language": "python",
   "name": "python3"
  },
  "language_info": {
   "codemirror_mode": {
    "name": "ipython",
    "version": 3
   },
   "file_extension": ".py",
   "mimetype": "text/x-python",
   "name": "python",
   "nbconvert_exporter": "python",
   "pygments_lexer": "ipython3",
   "version": "3.9.21"
  }
 },
 "nbformat": 4,
 "nbformat_minor": 2
}
