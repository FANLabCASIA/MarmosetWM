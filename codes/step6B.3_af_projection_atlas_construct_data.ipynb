{
 "cells": [
  {
   "cell_type": "code",
   "execution_count": 1,
   "metadata": {},
   "outputs": [],
   "source": [
    "import numpy as np\n",
    "import pandas as pd\n",
    "import statsmodels.formula.api as smf\n",
    "\n",
    "import warnings\n",
    "warnings.filterwarnings('ignore')"
   ]
  },
  {
   "cell_type": "code",
   "execution_count": 2,
   "metadata": {},
   "outputs": [],
   "source": [
    "datapath = '/Users/yufanwang/Desktop/MarmosetWM_Project/revision_NC/af_projection/result'"
   ]
  },
  {
   "cell_type": "code",
   "execution_count": null,
   "metadata": {},
   "outputs": [],
   "source": [
    "human_af_l_all = np.loadtxt(f'{datapath}/probtrackx2/human_af_l_thr0_norm.txt')\n",
    "chimp_af_l_all = np.loadtxt(f'{datapath}/probtrackx2/chimp_af_l_thr0_norm.txt')\n",
    "macaque_af_l_all = np.loadtxt(f'{datapath}/probtrackx2/macaque_tvb_af_l_thr0_norm.txt')\n",
    "marmoset_af_l_all = np.loadtxt(f'{datapath}/probtrackx2/marmoset_MBM_af_l_thr0_norm.txt')\n",
    "marmoset_Paxinos_af_l_all = np.loadtxt(f'{datapath}/Paxinos/marmoset_MBM_af_l_thr0_norm_Paxinos.txt')\n",
    "\n",
    "human_af_r_all = np.loadtxt(f'{datapath}/probtrackx2/human_af_r_thr0_norm.txt')\n",
    "chimp_af_r_all = np.loadtxt(f'{datapath}/probtrackx2/chimp_af_r_thr0_norm.txt')\n",
    "macaque_af_r_all = np.loadtxt(f'{datapath}/probtrackx2/macaque_tvb_af_r_thr0_norm.txt')\n",
    "marmoset_af_r_all = np.loadtxt(f'{datapath}/probtrackx2/marmoset_MBM_af_r_thr0_norm.txt')\n",
    "marmoset_Paxinos_af_r_all = np.loadtxt(f'{datapath}/Paxinos/marmoset_MBM_af_r_thr0_norm_Paxinos.txt')"
   ]
  },
  {
   "cell_type": "code",
   "execution_count": null,
   "metadata": {},
   "outputs": [],
   "source": [
    "index_human_chimp_L = np.loadtxt(f'/Users/yufanwang/Desktop/MarmosetWM_Project/revision_NC/indi_bp_atlas/index_human_chimp_L.txt')\n",
    "index_human_macaque_L = np.loadtxt(f'/Users/yufanwang/Desktop/MarmosetWM_Project/revision_NC/indi_bp_atlas/index_human_macaque_L.txt')\n",
    "index_human_marmoset_L = np.loadtxt(f'/Users/yufanwang/Desktop/MarmosetWM_Project/revision_NC/indi_bp_atlas/index_human_marmoset_L.txt')"
   ]
  },
  {
   "cell_type": "markdown",
   "metadata": {},
   "source": [
    "## construct data"
   ]
  },
  {
   "cell_type": "code",
   "execution_count": 8,
   "metadata": {},
   "outputs": [],
   "source": [
    "def read_subject_list(txt_path):\n",
    "    with open(txt_path, \"r\") as f:\n",
    "        subs = [line.strip() for line in f if line.strip()]\n",
    "    return subs\n",
    "\n",
    "def build_species_df_atlas(list_path, species_name, atlas, left_vals, right_vals, region):\n",
    "    subj = read_subject_list(list_path)\n",
    "    L = np.asarray(left_vals).reshape(-1)\n",
    "    R = np.asarray(right_vals).reshape(-1)\n",
    "\n",
    "    if not (len(subj) == len(L) == len(R)):\n",
    "        raise ValueError(\n",
    "            f\"[{species_name}] length mismatch: \"\n",
    "            f\"subjects={len(subj)}, L={len(L)}, R={len(R)}\"\n",
    "        )\n",
    "\n",
    "    df_L = pd.DataFrame({\n",
    "        \"subject_id\": subj,\n",
    "        \"species\": species_name,\n",
    "        \"atlas\": atlas,\n",
    "        \"hemisphere\": \"LH\",\n",
    "        \"region\": region,\n",
    "        \"connectivity_score\": L\n",
    "    })\n",
    "\n",
    "    df_R = pd.DataFrame({\n",
    "        \"subject_id\": subj,\n",
    "        \"species\": species_name,\n",
    "        \"atlas\": atlas,\n",
    "        \"hemisphere\": \"RH\",\n",
    "        \"region\": region,\n",
    "        \"connectivity_score\": R\n",
    "    })\n",
    "\n",
    "    return pd.concat([df_L, df_R], ignore_index=True)"
   ]
  },
  {
   "cell_type": "code",
   "execution_count": 10,
   "metadata": {},
   "outputs": [
    {
     "name": "stdout",
     "output_type": "stream",
     "text": [
      "  subject_id species atlas hemisphere region  connectivity_score\n",
      "0     100307   human   BNA         LH   A45c            0.335231\n",
      "1     100408   human   BNA         LH   A45c            0.339382\n",
      "2     103414   human   BNA         LH   A45c            0.133474\n",
      "3     105115   human   BNA         LH   A45c            0.264675\n",
      "4     106016   human   BNA         LH   A45c            0.541276\n",
      "(236, 6)\n",
      "   subject_id   species atlas hemisphere region  connectivity_score\n",
      "0  sub-NIHm14  marmoset   BNA         LH   A45c            0.180736\n",
      "1  sub-NIHm15  marmoset   BNA         LH   A45c            0.050014\n",
      "2  sub-NIHm16  marmoset   BNA         LH   A45c            0.149554\n",
      "3  sub-NIHm17  marmoset   BNA         LH   A45c            0.158284\n",
      "4  sub-NIHm19  marmoset   BNA         LH   A45c            0.126013\n",
      "(96, 6)\n"
     ]
    }
   ],
   "source": [
    "human_list_path = \"/Users/yufanwang/Desktop/MarmosetWM_Project/revision_NC/indi_bp_atlas/humanlist40.txt\"\n",
    "chimp_list_path = \"/Users/yufanwang/Desktop/MarmosetWM_Project/revision_NC/indi_bp_atlas/chimplist46.txt\"\n",
    "macaque_list_path = \"/Users/yufanwang/Desktop/MarmosetWM_Project/revision_NC/indi_bp_atlas/macaque_tvb_list.txt\"\n",
    "marmoset_list_path = \"/Users/yufanwang/Desktop/MarmosetWM_Project/revision_NC/indi_bp_atlas/marmoset_MBM_list.txt\"\n",
    "\n",
    "i = 17\n",
    "region = \"A45c\"\n",
    "\n",
    "roi_index_human = i - 1\n",
    "roi_index_chimp = index_human_chimp_L[roi_index_human] - 1\n",
    "roi_index_macaque = index_human_macaque_L[roi_index_human] - 1\n",
    "roi_index_marmoset = index_human_marmoset_L[roi_index_human] - 1\n",
    "roi_index_marmoset_Paxinos = 31 - 1\n",
    "\n",
    "value_human_L = human_af_l_all[:,roi_index_human]\n",
    "value_chimp_L = chimp_af_l_all[:,int(roi_index_chimp)]\n",
    "value_macaque_L = macaque_af_l_all[:,int(roi_index_macaque)]\n",
    "value_marmoset_L = marmoset_af_l_all[:,int(roi_index_marmoset)]\n",
    "value_marmoset_Paxinos_L = marmoset_Paxinos_af_l_all[:,int(roi_index_marmoset_Paxinos)]\n",
    "\n",
    "value_human_R = human_af_r_all[:,roi_index_human]\n",
    "value_chimp_R = chimp_af_r_all[:,int(roi_index_chimp)]\n",
    "value_macaque_R = macaque_af_r_all[:,int(roi_index_macaque)]\n",
    "value_marmoset_R = marmoset_af_r_all[:,int(roi_index_marmoset)]\n",
    "value_marmoset_Paxinos_R = marmoset_Paxinos_af_r_all[:,int(roi_index_marmoset_Paxinos)]\n",
    "\n",
    "df = pd.concat([\n",
    "    build_species_df_atlas(human_list_path,    \"human\",      \"BNA\", value_human_L,    value_human_R, region),\n",
    "    build_species_df_atlas(chimp_list_path,    \"chimpanzee\", \"BNA\", value_chimp_L,    value_chimp_R, region),\n",
    "    build_species_df_atlas(macaque_list_path,  \"macaque\",    \"BNA\", value_macaque_L,  value_macaque_R, region),\n",
    "    build_species_df_atlas(marmoset_list_path, \"marmoset\",   \"BNA\", value_marmoset_Paxinos_L, value_marmoset_Paxinos_R, region),\n",
    "], ignore_index=True)\n",
    "\n",
    "print(df.head())\n",
    "print(df.shape)  # 应该是 2 * (40+46+8+24) = 236 行\n",
    "\n",
    "df.to_csv(f'{datapath}/af_projection_{region}_Paxinos.csv', index=False)\n",
    "\n",
    "df_marmoset = pd.concat([\n",
    "    build_species_df_atlas(marmoset_list_path, \"marmoset\", \"BNA\", value_marmoset_L, value_marmoset_R, region),\n",
    "    build_species_df_atlas(marmoset_list_path, \"marmoset\", \"Paxinos\", value_marmoset_Paxinos_L, value_marmoset_Paxinos_R, region),\n",
    "], ignore_index=True)\n",
    "\n",
    "print(df_marmoset.head())\n",
    "print(df_marmoset.shape)  # 应该是 2 * (40+46+8+24) = 236 行\n",
    "\n",
    "df_marmoset.to_csv(f'{datapath}/af_projection_{region}_Paxinos_marmoset.csv', index=False)"
   ]
  }
 ],
 "metadata": {
  "kernelspec": {
   "display_name": "yfpy",
   "language": "python",
   "name": "python3"
  },
  "language_info": {
   "codemirror_mode": {
    "name": "ipython",
    "version": 3
   },
   "file_extension": ".py",
   "mimetype": "text/x-python",
   "name": "python",
   "nbconvert_exporter": "python",
   "pygments_lexer": "ipython3",
   "version": "3.9.21"
  }
 },
 "nbformat": 4,
 "nbformat_minor": 2
}
