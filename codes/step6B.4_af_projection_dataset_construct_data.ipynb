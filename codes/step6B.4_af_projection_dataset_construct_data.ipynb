{
 "cells": [
  {
   "cell_type": "code",
   "execution_count": 119,
   "metadata": {},
   "outputs": [],
   "source": [
    "import numpy as np\n",
    "import pandas as pd\n",
    "import statsmodels.formula.api as smf\n",
    "\n",
    "import warnings\n",
    "warnings.filterwarnings('ignore')"
   ]
  },
  {
   "cell_type": "code",
   "execution_count": 120,
   "metadata": {},
   "outputs": [],
   "source": [
    "datapath = '/Users/yufanwang/Desktop/MarmosetWM_Project/revision_NC/af_projection/result'"
   ]
  },
  {
   "cell_type": "code",
   "execution_count": null,
   "metadata": {},
   "outputs": [],
   "source": [
    "human_af_l_all = np.loadtxt(f'{datapath}/probtrackx2/human_af_l_thr0_norm.txt')\n",
    "chimp_af_l_all = np.loadtxt(f'{datapath}/probtrackx2/chimp_af_l_thr0_norm.txt')\n",
    "macaque_af_l_all = np.loadtxt(f'{datapath}/probtrackx2/macaque_tvb_af_l_thr0_norm.txt')\n",
    "marmoset_af_l_all = np.loadtxt(f'{datapath}/probtrackx2/marmoset_MBM_af_l_thr0_norm.txt')\n",
    "macaque_ucd_af_l_all = np.loadtxt(f'{datapath}/ucd_minds/macaque_ucd_af_l_thr0_norm.txt')\n",
    "marmoset_minds_af_l_all = np.loadtxt(f'{datapath}/ucd_minds/marmoset_minds_af_l_thr0_norm.txt')\n",
    "\n",
    "human_af_r_all = np.loadtxt(f'{datapath}/probtrackx2/human_af_r_thr0_norm.txt')\n",
    "chimp_af_r_all = np.loadtxt(f'{datapath}/probtrackx2/chimp_af_r_thr0_norm.txt')\n",
    "macaque_af_r_all = np.loadtxt(f'{datapath}/probtrackx2/macaque_tvb_af_r_thr0_norm.txt')\n",
    "marmoset_af_r_all = np.loadtxt(f'{datapath}/probtrackx2/marmoset_MBM_af_r_thr0_norm.txt')\n",
    "macaque_ucd_af_r_all = np.loadtxt(f'{datapath}/ucd_minds/macaque_ucd_af_r_thr0_norm.txt')\n",
    "marmoset_minds_af_r_all = np.loadtxt(f'{datapath}/ucd_minds/marmoset_minds_af_r_thr0_norm.txt')"
   ]
  },
  {
   "cell_type": "code",
   "execution_count": null,
   "metadata": {},
   "outputs": [],
   "source": [
    "index_human_chimp_L = np.loadtxt(f'/Users/yufanwang/Desktop/MarmosetWM_Project/revision_NC/indi_bp_atlas/index_human_chimp_L.txt')\n",
    "index_human_macaque_L = np.loadtxt(f'/Users/yufanwang/Desktop/MarmosetWM_Project/revision_NC/indi_bp_atlas/index_human_macaque_L.txt')\n",
    "index_human_marmoset_L = np.loadtxt(f'/Users/yufanwang/Desktop/MarmosetWM_Project/revision_NC/indi_bp_atlas/index_human_marmoset_L.txt')"
   ]
  },
  {
   "cell_type": "markdown",
   "metadata": {},
   "source": [
    "## construct data"
   ]
  },
  {
   "cell_type": "code",
   "execution_count": 135,
   "metadata": {},
   "outputs": [],
   "source": [
    "def read_subject_list(txt_path):\n",
    "    with open(txt_path, \"r\") as f:\n",
    "        subs = [line.strip() for line in f if line.strip()]\n",
    "    return subs\n",
    "\n",
    "def build_species_df_site(list_path, species_name, site, left_vals, right_vals, region):\n",
    "    subj = read_subject_list(list_path)\n",
    "    L = np.asarray(left_vals).reshape(-1)\n",
    "    R = np.asarray(right_vals).reshape(-1)\n",
    "\n",
    "    if not (len(subj) == len(L) == len(R)):\n",
    "        raise ValueError(\n",
    "            f\"[{species_name}] length mismatch: \"\n",
    "            f\"subjects={len(subj)}, L={len(L)}, R={len(R)}\"\n",
    "        )\n",
    "\n",
    "    df_L = pd.DataFrame({\n",
    "        \"subject_id\": subj,\n",
    "        \"species\": species_name,\n",
    "        \"site\": site,\n",
    "        \"hemisphere\": \"LH\",\n",
    "        \"region\": region,\n",
    "        \"connectivity_score\": L\n",
    "    })\n",
    "\n",
    "    df_R = pd.DataFrame({\n",
    "        \"subject_id\": subj,\n",
    "        \"species\": species_name,\n",
    "        \"site\": site,\n",
    "        \"hemisphere\": \"RH\",\n",
    "        \"region\": region,\n",
    "        \"connectivity_score\": R\n",
    "    })\n",
    "\n",
    "    return pd.concat([df_L, df_R], ignore_index=True)"
   ]
  },
  {
   "cell_type": "code",
   "execution_count": 136,
   "metadata": {},
   "outputs": [
    {
     "name": "stdout",
     "output_type": "stream",
     "text": [
      "  subject_id species site hemisphere region  connectivity_score\n",
      "0     100307   human  HCP         LH   A45c            0.335231\n",
      "1     100408   human  HCP         LH   A45c            0.339382\n",
      "2     103414   human  HCP         LH   A45c            0.133474\n",
      "3     105115   human  HCP         LH   A45c            0.264675\n",
      "4     106016   human  HCP         LH   A45c            0.541276\n",
      "(430, 6)\n",
      "  subject_id  species site hemisphere region  connectivity_score\n",
      "0     sub-01  macaque  tvb         LH   A45c            0.013393\n",
      "1     sub-02  macaque  tvb         LH   A45c            0.097818\n",
      "2     sub-03  macaque  tvb         LH   A45c            0.006349\n",
      "3     sub-04  macaque  tvb         LH   A45c            0.000000\n",
      "4     sub-05  macaque  tvb         LH   A45c            0.000000\n",
      "(54, 6)\n",
      "   subject_id   species site hemisphere region  connectivity_score\n",
      "0  sub-NIHm14  marmoset  MBM         LH   A45c            0.180736\n",
      "1  sub-NIHm15  marmoset  MBM         LH   A45c            0.050014\n",
      "2  sub-NIHm16  marmoset  MBM         LH   A45c            0.149554\n",
      "3  sub-NIHm17  marmoset  MBM         LH   A45c            0.158284\n",
      "4  sub-NIHm19  marmoset  MBM         LH   A45c            0.126013\n",
      "(268, 6)\n"
     ]
    }
   ],
   "source": [
    "human_list_path = \"/Users/yufanwang/Desktop/MarmosetWM_Project/revision_NC/indi_bp_atlas/humanlist40.txt\"\n",
    "chimp_list_path = \"/Users/yufanwang/Desktop/MarmosetWM_Project/revision_NC/indi_bp_atlas/chimplist46.txt\"\n",
    "macaque_list_path = \"/Users/yufanwang/Desktop/MarmosetWM_Project/revision_NC/indi_bp_atlas/macaque_tvb_list.txt\"\n",
    "marmoset_list_path = \"/Users/yufanwang/Desktop/MarmosetWM_Project/revision_NC/indi_bp_atlas/marmoset_MBM_list.txt\"\n",
    "macaque_ucd_list_path = \"/Users/yufanwang/Desktop/MarmosetWM_Project/revision_NC/indi_bp_atlas/macaque_ucdavis_list.txt\"\n",
    "marmoset_minds_list_path = \"/Users/yufanwang/Desktop/MarmosetWM_Project/revision_NC/indi_bp_atlas/marmoset_minds_list.txt\"\n",
    "\n",
    "i = 17\n",
    "region = \"A45c\"\n",
    "\n",
    "roi_index_human = i - 1\n",
    "roi_index_chimp = index_human_chimp_L[roi_index_human] - 1\n",
    "roi_index_macaque = index_human_macaque_L[roi_index_human] - 1\n",
    "roi_index_marmoset = index_human_marmoset_L[roi_index_human] - 1\n",
    "\n",
    "value_human_L = human_af_l_all[:,roi_index_human]\n",
    "value_chimp_L = chimp_af_l_all[:,int(roi_index_chimp)]\n",
    "value_macaque_L = macaque_af_l_all[:,int(roi_index_macaque)]\n",
    "value_marmoset_L = marmoset_af_l_all[:,int(roi_index_marmoset)]\n",
    "value_macaque_ucd_L = macaque_ucd_af_l_all[:,int(roi_index_macaque)]\n",
    "value_marmoset_minds_L = marmoset_minds_af_l_all[:,int(roi_index_marmoset)]\n",
    "\n",
    "value_human_R = human_af_r_all[:,roi_index_human]\n",
    "value_chimp_R = chimp_af_r_all[:,int(roi_index_chimp)]\n",
    "value_macaque_R = macaque_af_r_all[:,int(roi_index_macaque)]\n",
    "value_marmoset_R = marmoset_af_r_all[:,int(roi_index_marmoset)]\n",
    "value_macaque_ucd_R = macaque_ucd_af_r_all[:,int(roi_index_macaque)]\n",
    "value_marmoset_minds_R = marmoset_minds_af_r_all[:,int(roi_index_marmoset)]\n",
    "\n",
    "df = pd.concat([\n",
    "    build_species_df_site(human_list_path,    \"human\",      \"HCP\", value_human_L,    value_human_R, region),\n",
    "    build_species_df_site(chimp_list_path,    \"chimpanzee\", \"NCBR\", value_chimp_L,    value_chimp_R, region),\n",
    "    build_species_df_site(macaque_ucd_list_path,  \"macaque\", \"ucd\",    value_macaque_ucd_L,  value_macaque_ucd_R, region),\n",
    "    build_species_df_site(marmoset_minds_list_path, \"marmoset\", \"minds\",   value_marmoset_minds_L, value_marmoset_minds_R, region),\n",
    "], ignore_index=True)\n",
    "\n",
    "print(df.head())\n",
    "print(df.shape)  # 应该是 2 * (40+46+8+24) = 236 行\n",
    "\n",
    "df.to_csv(f'{datapath}/af_projection_{region}_ucd_minds.csv', index=False)\n",
    "\n",
    "## macaque only\n",
    "df_macaque = pd.concat([\n",
    "    build_species_df_site(macaque_list_path,  \"macaque\", \"tvb\",    value_macaque_L,  value_macaque_R, region),\n",
    "    build_species_df_site(macaque_ucd_list_path,  \"macaque\", \"ucd\",    value_macaque_ucd_L,  value_macaque_ucd_R, region),\n",
    "], ignore_index=True)\n",
    "\n",
    "print(df_macaque.head())\n",
    "print(df_macaque.shape)  # 应该是 2 * (40+46+8+24) = 236 行\n",
    "\n",
    "df_macaque.to_csv(f'{datapath}/af_projection_{region}_ucd_minds_macaque.csv', index=False)\n",
    "\n",
    "## marmoset only\n",
    "df_marmoset = pd.concat([\n",
    "    build_species_df_site(marmoset_list_path, \"marmoset\", \"MBM\",   value_marmoset_L, value_marmoset_R, region),\n",
    "    build_species_df_site(marmoset_minds_list_path, \"marmoset\", \"minds\",   value_marmoset_minds_L, value_marmoset_minds_R, region),\n",
    "], ignore_index=True)\n",
    "\n",
    "print(df_marmoset.head())\n",
    "print(df_marmoset.shape)  # 应该是 2 * (40+46+8+24) = 236 行\n",
    "\n",
    "df_marmoset.to_csv(f'{datapath}/af_projection_{region}_ucd_minds_marmoset.csv', index=False)"
   ]
  }
 ],
 "metadata": {
  "kernelspec": {
   "display_name": "yfpy",
   "language": "python",
   "name": "python3"
  },
  "language_info": {
   "codemirror_mode": {
    "name": "ipython",
    "version": 3
   },
   "file_extension": ".py",
   "mimetype": "text/x-python",
   "name": "python",
   "nbconvert_exporter": "python",
   "pygments_lexer": "ipython3",
   "version": "3.9.21"
  }
 },
 "nbformat": 4,
 "nbformat_minor": 2
}
